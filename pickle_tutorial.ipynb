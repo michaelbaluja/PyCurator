{
 "cells": [
  {
   "cell_type": "markdown",
   "id": "2fa40596",
   "metadata": {},
   "source": [
    "# Introduction"
   ]
  },
  {
   "cell_type": "markdown",
   "id": "28657de4",
   "metadata": {},
   "source": [
    "This noteboook is a tutorial on saving and reusing python variables respectively via writing and reading pickle (.pkl) files."
   ]
  },
  {
   "cell_type": "markdown",
   "id": "dd856b6c",
   "metadata": {},
   "source": [
    "## Citations"
   ]
  },
  {
   "cell_type": "markdown",
   "id": "dea395ae",
   "metadata": {},
   "source": [
    "This tutorial is a modified and abridged version of [this](https://www.datacamp.com/community/tutorials/pickle-python-tutorial) walkthrough. More information can be found at that link, the [official documentation](https://docs.python.org/3/library/pickle.html), or through the [internet](https://lmgtfy.app/?q=python+pickle)."
   ]
  },
  {
   "cell_type": "markdown",
   "id": "0e4b54d5",
   "metadata": {},
   "source": [
    "# Walkthrough"
   ]
  },
  {
   "cell_type": "code",
   "execution_count": 1,
   "id": "2af227b2",
   "metadata": {},
   "outputs": [],
   "source": [
    "# We use the pickle library to save/load the data, so we import the pickle library\n",
    "import pickle"
   ]
  },
  {
   "cell_type": "code",
   "execution_count": 2,
   "id": "046f075b",
   "metadata": {},
   "outputs": [],
   "source": [
    "# We first need data that we wish to save. We use the following 'data' list for this example.\n",
    "data = [1, 2, 3, 4]"
   ]
  },
  {
   "cell_type": "markdown",
   "id": "004780fa",
   "metadata": {},
   "source": [
    "## Saving the data / writing with pickle"
   ]
  },
  {
   "cell_type": "code",
   "execution_count": 3,
   "id": "4d813534",
   "metadata": {},
   "outputs": [],
   "source": [
    "# We use the 'with, as' statement to open our data variable file, with the 'wb' parameter opening the file\n",
    "# to (w)rite the file in (b)inary. If 'data_variable.pkl' does not exist, it is created. If it does exist, \n",
    "# this command will overwrite the file.\n",
    "\n",
    "# With the file opened, we then use pickle to dump the data variable in the file.\n",
    "\n",
    "with open('data_variable.pkl', 'wb') as file:\n",
    "    pickle.dump(data, file)"
   ]
  },
  {
   "cell_type": "markdown",
   "id": "5434d53e",
   "metadata": {},
   "source": [
    "## Loading the data / reading with pickle"
   ]
  },
  {
   "cell_type": "code",
   "execution_count": 4,
   "id": "d6799886",
   "metadata": {},
   "outputs": [],
   "source": [
    "# We use the 'with, as' statement again open our data variable file, with the 'rb' parameter opening the file\n",
    "# to (r)ead the file in (b)inary. If 'data_variable.pkl' does not exist, then a FileNotFoundError is thrown.\n",
    "\n",
    "# With the file opened, we then use pickle to load in the saved variable, and assign this to the new_data variable.\n",
    "\n",
    "with open('data_variable.pkl', 'rb') as file:\n",
    "    new_data = pickle.load(file)"
   ]
  },
  {
   "cell_type": "markdown",
   "id": "0c8fc268",
   "metadata": {},
   "source": [
    "## Comparing the new/old data"
   ]
  },
  {
   "cell_type": "code",
   "execution_count": 5,
   "id": "9b870820",
   "metadata": {},
   "outputs": [
    {
     "name": "stdout",
     "output_type": "stream",
     "text": [
      "new_data: [1, 2, 3, 4]\n"
     ]
    }
   ],
   "source": [
    "# We can now print the newly loaded variable and use the following assert statement to ensure that it is the \n",
    "# same as the original data that we wrote to the file.\n",
    "\n",
    "print('new_data:', new_data)\n",
    "assert data == new_data, 'The saved/loaded data does not match the original data'"
   ]
  }
 ],
 "metadata": {
  "kernelspec": {
   "display_name": "Python 3",
   "language": "python",
   "name": "python3"
  },
  "language_info": {
   "codemirror_mode": {
    "name": "ipython",
    "version": 3
   },
   "file_extension": ".py",
   "mimetype": "text/x-python",
   "name": "python",
   "nbconvert_exporter": "python",
   "pygments_lexer": "ipython3",
   "version": "3.8.8"
  }
 },
 "nbformat": 4,
 "nbformat_minor": 5
}
