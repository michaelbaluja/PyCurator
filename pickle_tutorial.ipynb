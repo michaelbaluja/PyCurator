{
 "cells": [
  {
   "cell_type": "markdown",
   "id": "2fa40596",
   "metadata": {},
   "source": [
    "# Introduction"
   ]
  },
  {
   "cell_type": "markdown",
   "id": "28657de4",
   "metadata": {},
   "source": [
    "This noteboook is a tutorial on saving and reusing python variables respectively via writing and reading pickle (.pkl) files. Specifically, we will cover how to save multiple variables. For this example, we will store a collection of fake API keys for different social media websites."
   ]
  },
  {
   "cell_type": "markdown",
   "id": "dd856b6c",
   "metadata": {},
   "source": [
    "## Citations"
   ]
  },
  {
   "cell_type": "markdown",
   "id": "dea395ae",
   "metadata": {},
   "source": [
    "This tutorial is a modified and abridged version of [this](https://www.datacamp.com/community/tutorials/pickle-python-tutorial) walkthrough. More information can be found at that link, the [official documentation](https://docs.python.org/3/library/pickle.html), or through the [internet](https://lmgtfy.app/?q=python+pickle)."
   ]
  },
  {
   "cell_type": "markdown",
   "id": "433abed2",
   "metadata": {},
   "source": [
    "We utilize randomly generated character sequences using https://passwordsgenerator.net to serve as our fake API keys."
   ]
  },
  {
   "cell_type": "markdown",
   "id": "0e4b54d5",
   "metadata": {},
   "source": [
    "# Walkthrough"
   ]
  },
  {
   "cell_type": "code",
   "execution_count": 1,
   "id": "2af227b2",
   "metadata": {},
   "outputs": [],
   "source": [
    "# We use the pickle library to save/load the data, so we import the pickle library\n",
    "import pickle\n",
    "\n",
    "# One option for saving the credentials is to use a Named Tuple, which we import here\n",
    "from collections import namedtuple"
   ]
  },
  {
   "cell_type": "markdown",
   "id": "27f15d99",
   "metadata": {},
   "source": [
    "## Preparing the data"
   ]
  },
  {
   "cell_type": "markdown",
   "id": "3aa6a7e1",
   "metadata": {},
   "source": [
    "Since we want to store multiple variables, we need to find some way to store these variables as a single variable that can be pickled. In this regard, we consider the use of a named tuple and a dictionary. We could simply just store all of the variables in a list, but that approach does not allow us to easily extract the data without remembering the ordering of the list."
   ]
  },
  {
   "cell_type": "code",
   "execution_count": 2,
   "id": "863fdbb4",
   "metadata": {},
   "outputs": [],
   "source": [
    "# Creating toy data\n",
    "facebook_token = 'X8JPBqYLzWjJEyAd'\n",
    "twitter_token = 'ET2tuUC4A8GcbRzV'\n",
    "instagram_token = 'E9f9zVeaguB8SkNB'\n",
    "snapchat_token = 'QgUj8prbGCuks3Yf'"
   ]
  },
  {
   "cell_type": "markdown",
   "id": "f6ec9182",
   "metadata": {},
   "source": [
    "### Named Tuple"
   ]
  },
  {
   "cell_type": "markdown",
   "id": "916a322e",
   "metadata": {},
   "source": [
    "Similar to a normal tuple in Python, a Named Tuple allows us to create an immutable collection of data that does not contain duplicates. However, the additional benefit is that a Named Tuple allows you to index the data by name instead of just location."
   ]
  },
  {
   "cell_type": "code",
   "execution_count": 3,
   "id": "046f075b",
   "metadata": {},
   "outputs": [
    {
     "name": "stdout",
     "output_type": "stream",
     "text": [
      "Facebook token is: X8JPBqYLzWjJEyAd\n",
      "Instagram token is: E9f9zVeaguB8SkNB\n"
     ]
    }
   ],
   "source": [
    "# Create the Token class that can then hold each of our tokens\n",
    "Token = namedtuple('Token', ['facebook', 'twitter', 'instagram', 'snapchat'])\n",
    "\n",
    "# Create an instance of the token class\n",
    "token_named_tuple = Token(facebook_token, twitter_token, instagram_token, snapchat_token)\n",
    "\n",
    "# We can then access each token using dot notation, and we see it's the same as the original variable data\n",
    "print('Facebook token is:', token_named_tuple.facebook)\n",
    "assert facebook_token == token_named_tuple.facebook, 'Named Tuple tokens do not match the original via dot notation'\n",
    "\n",
    "# We can also index via location, as is done with normal tuples\n",
    "print('Instagram token is:', token_named_tuple[2])\n",
    "assert instagram_token == token_named_tuple[2], 'Named Tuple tokens do not match the original via location index'"
   ]
  },
  {
   "cell_type": "markdown",
   "id": "853b1cb1",
   "metadata": {},
   "source": [
    "### Dictionary"
   ]
  },
  {
   "cell_type": "markdown",
   "id": "c69050bc",
   "metadata": {},
   "source": [
    "Python dictionaries are similar to the Named Tuple in that they allow you create a collection of data that can be referenced by name (key), but the big difference is that Python libraries are mutable, meaning that the data can be changed after it is added (as well as dictionaries not being able to be indexed by location)."
   ]
  },
  {
   "cell_type": "code",
   "execution_count": 4,
   "id": "203651ff",
   "metadata": {
    "scrolled": true
   },
   "outputs": [
    {
     "name": "stdout",
     "output_type": "stream",
     "text": [
      "Twitter token: ET2tuUC4A8GcbRzV\n"
     ]
    }
   ],
   "source": [
    "# Create our dictionary of the form {key1: value1, key2: value2, ...}\n",
    "token_dict = {'facebook': facebook_token,\n",
    "             'twitter': twitter_token,\n",
    "             'instagram': instagram_token,\n",
    "             'snapchat': snapchat_token}\n",
    "\n",
    "# We index a dictionary using a string key with bracket notation, as see it's the same as the original data\n",
    "print('Twitter token:', token_dict['twitter'])\n",
    "assert twitter_token == token_dict['twitter'], 'Dictionary tokens do not match the original via bracket notation'"
   ]
  },
  {
   "cell_type": "markdown",
   "id": "dd723fcb",
   "metadata": {},
   "source": [
    "### Pros and Cons"
   ]
  },
  {
   "cell_type": "markdown",
   "id": "03e77acb",
   "metadata": {},
   "source": [
    "With the Named Tuple and Dictionary being fairly similar, it may be difficult to choose between the two. However, there is a main benefit for both in this example. \n",
    "\n",
    "For the Named Tuple, the biggest strength comes from being immutable. Since we're dealing with API keys in this example, many of which are often unable to be recovered after being assigned, the unability for the Named Tuple to change data means that you don't have to worry about accidentally changing a key and being unable to recover the original.\n",
    "\n",
    "For the dictionary, the strength here comes from the ease of use. Since the dictionary is a built-in method in Python, it is more familiar to most users, and does not require importing and using an additional library. For the Named Tuple, users must be careful to ensure they are using the same version of the collections library when reading from and writing to the pickle file, as pickle will raise concerns if the version of a package is different when reading than it was when writing."
   ]
  },
  {
   "cell_type": "markdown",
   "id": "004780fa",
   "metadata": {},
   "source": [
    "## Saving the data / writing with pickle"
   ]
  },
  {
   "cell_type": "code",
   "execution_count": 5,
   "id": "4d813534",
   "metadata": {},
   "outputs": [],
   "source": [
    "# We use the 'with, as' statement to open our data variable file, with the 'wb' parameter opening the file\n",
    "# to (w)rite the file in (b)inary. If 'data_variable.pkl' does not exist, it is created. If it does exist, \n",
    "# this command will overwrite the file.\n",
    "\n",
    "# With the file opened, we then use pickle to dump the data variable in the file.\n",
    "\n",
    "# Saving the Named Tuple\n",
    "with open('token_named_tuple.pkl', 'wb') as file:\n",
    "    pickle.dump(token_named_tuple, file)\n",
    "    \n",
    "with open('token_dict.pkl', 'wb') as file:\n",
    "    pickle.dump(token_dict, file)"
   ]
  },
  {
   "cell_type": "markdown",
   "id": "5434d53e",
   "metadata": {},
   "source": [
    "## Loading the data / reading with pickle"
   ]
  },
  {
   "cell_type": "code",
   "execution_count": 6,
   "id": "d6799886",
   "metadata": {},
   "outputs": [],
   "source": [
    "# We use the 'with, as' statement again open our data variable file, with the 'rb' parameter opening the file\n",
    "# to (r)ead the file in (b)inary. If 'data_variable.pkl' does not exist, then a FileNotFoundError is thrown.\n",
    "\n",
    "# With the file opened, we then use pickle to load in the saved variable, and assign this to the new_data variable.\n",
    "\n",
    "with open('token_named_tuple.pkl', 'rb') as file:\n",
    "    new_token_named_tuple = pickle.load(file)\n",
    "    \n",
    "with open('token_dict.pkl', 'rb') as file:\n",
    "    new_token_dict = pickle.load(file)"
   ]
  },
  {
   "cell_type": "markdown",
   "id": "0c8fc268",
   "metadata": {},
   "source": [
    "## Comparing the new/old data"
   ]
  },
  {
   "cell_type": "code",
   "execution_count": 7,
   "id": "9b870820",
   "metadata": {
    "scrolled": true
   },
   "outputs": [
    {
     "name": "stdout",
     "output_type": "stream",
     "text": [
      "new_token_named_tuple: Token(facebook='X8JPBqYLzWjJEyAd', twitter='ET2tuUC4A8GcbRzV', instagram='E9f9zVeaguB8SkNB', snapchat='QgUj8prbGCuks3Yf')\n",
      "new_token_dict: {'facebook': 'X8JPBqYLzWjJEyAd', 'twitter': 'ET2tuUC4A8GcbRzV', 'instagram': 'E9f9zVeaguB8SkNB', 'snapchat': 'QgUj8prbGCuks3Yf'}\n"
     ]
    }
   ],
   "source": [
    "# We can now print the newly loaded variables and use the following assert statement to ensure that it is the \n",
    "# same as the original data that we wrote to the file.\n",
    "\n",
    "print('new_token_named_tuple:', new_token_named_tuple)\n",
    "assert new_token_named_tuple == token_named_tuple, 'The saved/loaded Named Tuple does not match the original'\n",
    "\n",
    "print('new_token_dict:', new_token_dict)\n",
    "assert new_token_dict == token_dict, 'The saved/loaded Dictionary does not match the original'"
   ]
  }
 ],
 "metadata": {
  "kernelspec": {
   "display_name": "Python 3",
   "language": "python",
   "name": "python3"
  },
  "language_info": {
   "codemirror_mode": {
    "name": "ipython",
    "version": 3
   },
   "file_extension": ".py",
   "mimetype": "text/x-python",
   "name": "python",
   "nbconvert_exporter": "python",
   "pygments_lexer": "ipython3",
   "version": "3.8.8"
  }
 },
 "nbformat": 4,
 "nbformat_minor": 5
}
