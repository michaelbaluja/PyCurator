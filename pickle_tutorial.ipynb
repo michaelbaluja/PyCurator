{
 "cells": [
  {
   "cell_type": "markdown",
   "id": "2fa40596",
   "metadata": {},
   "source": [
    "# Introduction"
   ]
  },
  {
   "cell_type": "markdown",
   "id": "28657de4",
   "metadata": {},
   "source": [
    "This noteboook is a tutorial on saving and reusing python variables respectively via writing and reading pickle (.pkl) files. This tutorial is split into two parts.\n",
    "\n",
    "**Section 1:**\n",
    "\n",
    "We will cover how to save multiple variables using a dictionary. For this example, we will store a collection of fake API keys for different social media websites.\n",
    "\n",
    "**Section 2:**\n",
    "\n",
    "We will provide code for creating the credential dictionary used throughout the code in this repository."
   ]
  },
  {
   "cell_type": "markdown",
   "id": "dd856b6c",
   "metadata": {},
   "source": [
    "## Citations"
   ]
  },
  {
   "cell_type": "markdown",
   "id": "dea395ae",
   "metadata": {},
   "source": [
    "This tutorial is a modified and abridged version of [this](https://www.datacamp.com/community/tutorials/pickle-python-tutorial) walkthrough. More information can be found at that link, the [official documentation](https://docs.python.org/3/library/pickle.html), or through the [internet](https://lmgtfy.app/?q=python+pickle)."
   ]
  },
  {
   "cell_type": "markdown",
   "id": "433abed2",
   "metadata": {},
   "source": [
    "We utilize randomly generated character sequences using https://passwordsgenerator.net to serve as our fake API keys."
   ]
  },
  {
   "cell_type": "markdown",
   "id": "0e4b54d5",
   "metadata": {},
   "source": [
    "# Walkthrough"
   ]
  },
  {
   "cell_type": "code",
   "execution_count": null,
   "id": "2af227b2",
   "metadata": {},
   "outputs": [],
   "source": [
    "# We use the pickle library to save/load the data, so we import the pickle library\n",
    "import pickle"
   ]
  },
  {
   "cell_type": "markdown",
   "id": "047fff17",
   "metadata": {},
   "source": [
    "## Section 1: Using Pickle"
   ]
  },
  {
   "cell_type": "markdown",
   "id": "27f15d99",
   "metadata": {},
   "source": [
    "### Preparing the data"
   ]
  },
  {
   "cell_type": "markdown",
   "id": "3aa6a7e1",
   "metadata": {},
   "source": [
    "Since we want to store multiple variables, we need to find some way to store these variables as a single variable that can be pickled. In this regard, we consider the use of a named tuple and a dictionary. We could simply just store all of the variables in a list, but that approach does not allow us to easily extract the data without remembering the ordering of the list."
   ]
  },
  {
   "cell_type": "code",
   "execution_count": null,
   "id": "863fdbb4",
   "metadata": {},
   "outputs": [],
   "source": [
    "# Creating toy data\n",
    "facebook_token = 'X8JPBqYLzWjJEyAd'\n",
    "twitter_token = 'ET2tuUC4A8GcbRzV'\n",
    "instagram_token = 'E9f9zVeaguB8SkNB'\n",
    "snapchat_token = 'QgUj8prbGCuks3Yf'"
   ]
  },
  {
   "cell_type": "markdown",
   "id": "853b1cb1",
   "metadata": {},
   "source": [
    "### Dictionary"
   ]
  },
  {
   "cell_type": "markdown",
   "id": "c69050bc",
   "metadata": {},
   "source": [
    "Python dictionaries  allow you create a collection of data that can be referenced by name (key). Python dictionaries are mutable, meaning that the data can be changed after it is added."
   ]
  },
  {
   "cell_type": "code",
   "execution_count": null,
   "id": "203651ff",
   "metadata": {
    "scrolled": true
   },
   "outputs": [],
   "source": [
    "# Create our dictionary of the form {key1: value1, key2: value2, ...}\n",
    "token_dict = {'facebook': facebook_token,\n",
    "             'twitter': twitter_token,\n",
    "             'instagram': instagram_token,\n",
    "             'snapchat': snapchat_token}\n",
    "\n",
    "# We index a dictionary using a string key with bracket notation, as see it's the same as the original data\n",
    "print('Twitter token:', token_dict['twitter'])\n",
    "assert twitter_token == token_dict['twitter'], 'Dictionary tokens do not match the original via bracket notation'"
   ]
  },
  {
   "cell_type": "markdown",
   "id": "004780fa",
   "metadata": {},
   "source": [
    "### Saving the data / writing with pickle"
   ]
  },
  {
   "cell_type": "code",
   "execution_count": null,
   "id": "4d813534",
   "metadata": {},
   "outputs": [],
   "source": [
    "# We use the 'with, as' statement to open our data variable file, with the 'wb' parameter opening the file\n",
    "# to (w)rite the file in (b)inary. If 'data_variable.pkl' does not exist, it is created. If it does exist, \n",
    "# this command will overwrite the file.\n",
    "\n",
    "# With the file opened, we then use pickle to dump the data variable in the file.\n",
    "\n",
    "# Saving the Dictionary\n",
    "with open('token_dict.pkl', 'wb') as file:\n",
    "    pickle.dump(token_dict, file)"
   ]
  },
  {
   "cell_type": "markdown",
   "id": "5434d53e",
   "metadata": {},
   "source": [
    "### Loading the data / reading with pickle"
   ]
  },
  {
   "cell_type": "code",
   "execution_count": null,
   "id": "d6799886",
   "metadata": {},
   "outputs": [],
   "source": [
    "# We use the 'with, as' statement again open our data variable file, with the 'rb' parameter opening the file\n",
    "# to (r)ead the file in (b)inary. If 'data_variable.pkl' does not exist, then a FileNotFoundError is thrown.\n",
    "\n",
    "# With the file opened, we then use pickle to load in the saved variable, and assign this to the new_data variable.\n",
    "with open('token_dict.pkl', 'rb') as file:\n",
    "    new_token_dict = pickle.load(file)"
   ]
  },
  {
   "cell_type": "markdown",
   "id": "0c8fc268",
   "metadata": {},
   "source": [
    "### Comparing the new/old data"
   ]
  },
  {
   "cell_type": "code",
   "execution_count": null,
   "id": "9b870820",
   "metadata": {
    "scrolled": true
   },
   "outputs": [],
   "source": [
    "# We can now print the newly loaded variables and use the following assert statement to ensure that it is the \n",
    "# same as the original data that we wrote to the file.\n",
    "\n",
    "print('new_token_dict:', new_token_dict)\n",
    "assert new_token_dict == token_dict, 'The saved/loaded Dictionary does not match the original'"
   ]
  },
  {
   "cell_type": "markdown",
   "id": "bad64770",
   "metadata": {},
   "source": [
    "## Section 2: Creating Credential Dict"
   ]
  },
  {
   "cell_type": "markdown",
   "id": "d04893b9",
   "metadata": {},
   "source": [
    "### Requesting Tokens"
   ]
  },
  {
   "cell_type": "markdown",
   "id": "1e23c07a",
   "metadata": {},
   "source": [
    "For assistance on how to request API tokens for any of the following website API's, please check the \"Setup Instructions\" in the API's respective notebook."
   ]
  },
  {
   "cell_type": "markdown",
   "id": "767b95b9",
   "metadata": {},
   "source": [
    "### Making the dictionary"
   ]
  },
  {
   "cell_type": "code",
   "execution_count": null,
   "id": "bdf64f76",
   "metadata": {},
   "outputs": [],
   "source": [
    "credentials_dict = dict()"
   ]
  },
  {
   "cell_type": "markdown",
   "id": "f83bc300",
   "metadata": {},
   "source": [
    "For each token you would like to add, uncomment the respective line (remove the ```#``` character), and replace the ```MY_KEY``` portion with your API token. Make sure that the token is wrapped in 'single' or \"double\" quotes."
   ]
  },
  {
   "cell_type": "code",
   "execution_count": null,
   "id": "ba97b704",
   "metadata": {},
   "outputs": [],
   "source": [
    "### Dryad Token ###\n",
    "#credentials_dict['DRYAD_TOKEN'] = MY_KEY\n",
    "#credentials_dict['DRYAD_SECRET'] = 'MY_KEY\n",
    "\n",
    "### Figshare Token ###\n",
    "#credentials_dict['FIGSHARE_TOKEN'] = MY_KEY\n",
    "\n",
    "### OpenML Token ###\n",
    "#credentials_dict['OPENML_TOKEN'] = MY_KEY\n",
    "\n",
    "### Papers With Code Token ###\n",
    "#credentials_dict['PAPERSWITHCODE_TOKEN'] = MY_KEY\n",
    "\n",
    "### Zenodo Token ###\n",
    "#credentials_dict['ZENODO_TOKEN'] = MY_KEY"
   ]
  },
  {
   "cell_type": "markdown",
   "id": "268b2485",
   "metadata": {},
   "source": [
    "### Pickling the dictionary"
   ]
  },
  {
   "cell_type": "markdown",
   "id": "e8cdca9f",
   "metadata": {},
   "source": [
    "When saving the dictionary, take note of the location (save_file) that the credentials are saved to. By default, the credentials are saved to ```credentials.pkl```. This can be changed to any file of the user's choice, however, it is important to note that any change here must be reflected in the API notebooks when loaded the credentials back in for use. "
   ]
  },
  {
   "cell_type": "code",
   "execution_count": null,
   "id": "b4390411",
   "metadata": {},
   "outputs": [],
   "source": [
    "save_file = 'credentials.pkl'"
   ]
  },
  {
   "cell_type": "code",
   "execution_count": null,
   "id": "589b1b19",
   "metadata": {},
   "outputs": [],
   "source": [
    "# Saving the Dictionary\n",
    "with open(save_file, 'wb') as file:\n",
    "    pickle.dump(credentials_dict, file)"
   ]
  }
 ],
 "metadata": {
  "kernelspec": {
   "display_name": "Python 3",
   "language": "python",
   "name": "python3"
  },
  "language_info": {
   "codemirror_mode": {
    "name": "ipython",
    "version": 3
   },
   "file_extension": ".py",
   "mimetype": "text/x-python",
   "name": "python",
   "nbconvert_exporter": "python",
   "pygments_lexer": "ipython3",
   "version": "3.8.8"
  }
 },
 "nbformat": 4,
 "nbformat_minor": 5
}
