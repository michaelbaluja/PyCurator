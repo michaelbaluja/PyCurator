{
 "cells": [
  {
   "cell_type": "markdown",
   "id": "55bb8e23",
   "metadata": {},
   "source": [
    "# Setup"
   ]
  },
  {
   "cell_type": "code",
   "execution_count": 1,
   "id": "5e68d4f6",
   "metadata": {},
   "outputs": [],
   "source": [
    "import pandas as pd"
   ]
  },
  {
   "cell_type": "markdown",
   "id": "03dd5c0b",
   "metadata": {},
   "source": [
    "# Import the data"
   ]
  },
  {
   "cell_type": "markdown",
   "id": "341197e5",
   "metadata": {},
   "source": [
    "Add the relative dataset filepath to the ```filepath``` variable for reading in the data. Note that the code only accepts JSON filetypes.\n",
    "\n",
    "- Ex: ```filepath = '../data/Kaggle/kaggle_machine_learning_dataset.json'```"
   ]
  },
  {
   "cell_type": "code",
   "execution_count": null,
   "id": "4cbbe04f",
   "metadata": {},
   "outputs": [],
   "source": [
    "filepath = '../data/Dryad/machine_learning.json'"
   ]
  },
  {
   "cell_type": "code",
   "execution_count": null,
   "id": "c77d039e",
   "metadata": {},
   "outputs": [],
   "source": [
    "df = pd.read_json(filepath)"
   ]
  },
  {
   "cell_type": "markdown",
   "id": "155e140b",
   "metadata": {},
   "source": [
    "The following cell provides a peek at the data to ensure that it has been imported properly"
   ]
  },
  {
   "cell_type": "code",
   "execution_count": null,
   "id": "820440ae",
   "metadata": {},
   "outputs": [],
   "source": [
    "df.head()"
   ]
  },
  {
   "cell_type": "markdown",
   "id": "e7976782",
   "metadata": {},
   "source": [
    "# Inspect available columns"
   ]
  },
  {
   "cell_type": "code",
   "execution_count": null,
   "id": "dd50c406",
   "metadata": {},
   "outputs": [],
   "source": [
    "print(f'The dataset includes the following columns: \\n')\n",
    "for col in df.columns:\n",
    "    print(f'\\'{col}\\'')"
   ]
  },
  {
   "cell_type": "markdown",
   "id": "bcfdef84",
   "metadata": {},
   "source": [
    "# Choosing columns"
   ]
  },
  {
   "cell_type": "markdown",
   "id": "c0354e39",
   "metadata": {},
   "source": [
    "To export the data, you can choose to either keep certain columns or remove certain columns. For instance, if your dataset has 100 columns and you want to keep 90 of them, it would be faster to remove the 10 columns that you do not want instead of specifying the 90 columns that you would like to keep."
   ]
  },
  {
   "cell_type": "markdown",
   "id": "d72546d2",
   "metadata": {},
   "source": [
    "## Option 1: Choosing columns to keep"
   ]
  },
  {
   "cell_type": "markdown",
   "id": "51932082",
   "metadata": {},
   "source": [
    "The following code allows you to choose which columns you would like to export. You can either choose to keep a subset of the columns listed above, or all of the columns. The following instructions walk you through this. Note that only the cells for the option you choose should be ran (i.e. if you only want to keep a subset of the columns, do not run the cells in ```Option 1.2```."
   ]
  },
  {
   "cell_type": "markdown",
   "id": "661ff870",
   "metadata": {},
   "source": [
    "### Option 1.1: Keeping a subset of columns"
   ]
  },
  {
   "cell_type": "markdown",
   "id": "e157dec0",
   "metadata": {},
   "source": [
    "In order to choose columns for extraction, add the exact column name in quotations to the ```columns_to_export``` list below.\n",
    "\n",
    "- Ex: If you would like to export the id, license, and description columns, you would have the following list in the next cell:\n",
    "\n",
    "    ```columns_to_export = ['id', 'license', 'description']```\n",
    "    \n",
    "    \n",
    "Note: The order that you add the columns to export will be the order that they are arranged in the exported csv file."
   ]
  },
  {
   "cell_type": "code",
   "execution_count": null,
   "id": "14467c9b",
   "metadata": {},
   "outputs": [],
   "source": [
    "columns_to_export = ['id']"
   ]
  },
  {
   "cell_type": "markdown",
   "id": "b219dd56",
   "metadata": {},
   "source": [
    "### Option 1.2: Keeping all of the columns"
   ]
  },
  {
   "cell_type": "markdown",
   "id": "bb034220",
   "metadata": {},
   "source": [
    "If you would like to keep all of the columns, run the following cell."
   ]
  },
  {
   "cell_type": "code",
   "execution_count": null,
   "id": "857d1d59",
   "metadata": {},
   "outputs": [],
   "source": [
    "columns_to_export = df.columns"
   ]
  },
  {
   "cell_type": "markdown",
   "id": "b3877a05",
   "metadata": {},
   "source": [
    "### Truncating the data"
   ]
  },
  {
   "cell_type": "markdown",
   "id": "1000c347",
   "metadata": {},
   "source": [
    "The following cell adjusts your dataset to only contain the columns specified above."
   ]
  },
  {
   "cell_type": "code",
   "execution_count": null,
   "id": "8b7af851",
   "metadata": {},
   "outputs": [],
   "source": [
    "df = df[columns_to_export]"
   ]
  },
  {
   "cell_type": "markdown",
   "id": "568ed7af",
   "metadata": {},
   "source": [
    "## Option 2: Choosing columns to remove"
   ]
  },
  {
   "cell_type": "markdown",
   "id": "178abd7e",
   "metadata": {},
   "source": [
    "The following code allows you to specify which columns you want to remove. \n",
    "- Ex: If you would like to export all columns EXCEPT for the id, license, and description columns, you would have the following list in the next cell:\n",
    "\n",
    "    ```columns_to_remove = ['id', 'license', description']```"
   ]
  },
  {
   "cell_type": "code",
   "execution_count": null,
   "id": "ba486f59",
   "metadata": {},
   "outputs": [],
   "source": [
    "columns_to_remove = []"
   ]
  },
  {
   "cell_type": "markdown",
   "id": "715d0e64",
   "metadata": {},
   "source": [
    "### Truncating the data"
   ]
  },
  {
   "cell_type": "markdown",
   "id": "a4804e87",
   "metadata": {},
   "source": [
    "The following cell adjusts your dataset to remove the columns specified above."
   ]
  },
  {
   "cell_type": "code",
   "execution_count": null,
   "id": "43ef54bb",
   "metadata": {},
   "outputs": [],
   "source": [
    "df = df.drop(columns=columns_to_remove)"
   ]
  },
  {
   "cell_type": "markdown",
   "id": "2292a63d",
   "metadata": {},
   "source": [
    "# Exporting the Data"
   ]
  },
  {
   "cell_type": "markdown",
   "id": "75c1ac18",
   "metadata": {},
   "source": [
    "## Ensure the data is correct"
   ]
  },
  {
   "cell_type": "markdown",
   "id": "2ef45086",
   "metadata": {},
   "source": [
    "The following cell again shows a peek at the dataset to ensure that the proper columns have been added/removed."
   ]
  },
  {
   "cell_type": "code",
   "execution_count": null,
   "id": "ae17f93c",
   "metadata": {},
   "outputs": [],
   "source": [
    "df.head()"
   ]
  },
  {
   "cell_type": "markdown",
   "id": "f64b0a9b",
   "metadata": {},
   "source": [
    "## Export"
   ]
  },
  {
   "cell_type": "markdown",
   "id": "8443d1d1",
   "metadata": {},
   "source": [
    "In the following cell, please enter the filepath that you would like the dataset to be exported to. Since it will be exported as a csv, remember to add the appropriate filetype specification.\n",
    "\n",
    "- Ex: To export this data to the parent folder, you can do\n",
    "\n",
    "    ```export_filepath = 'my_dataset.csv```"
   ]
  },
  {
   "cell_type": "code",
   "execution_count": null,
   "id": "e0ab6d5f",
   "metadata": {},
   "outputs": [],
   "source": [
    "export_filepath = 'test.csv'"
   ]
  },
  {
   "cell_type": "markdown",
   "id": "afbd316c",
   "metadata": {},
   "source": [
    "The following cell will export the data."
   ]
  },
  {
   "cell_type": "code",
   "execution_count": null,
   "id": "fb3a74c8",
   "metadata": {},
   "outputs": [],
   "source": [
    "df.to_csv(export_filepath, index=False)"
   ]
  }
 ],
 "metadata": {
  "kernelspec": {
   "display_name": "Python 3 (ipykernel)",
   "language": "python",
   "name": "python3"
  },
  "language_info": {
   "codemirror_mode": {
    "name": "ipython",
    "version": 3
   },
   "file_extension": ".py",
   "mimetype": "text/x-python",
   "name": "python",
   "nbconvert_exporter": "python",
   "pygments_lexer": "ipython3",
   "version": "3.9.7"
  }
 },
 "nbformat": 4,
 "nbformat_minor": 5
}
