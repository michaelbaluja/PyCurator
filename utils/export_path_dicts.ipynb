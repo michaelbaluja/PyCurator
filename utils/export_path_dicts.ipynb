{
 "cells": [
  {
   "cell_type": "code",
   "execution_count": null,
   "metadata": {},
   "outputs": [],
   "source": [
    "import json"
   ]
  },
  {
   "cell_type": "code",
   "execution_count": null,
   "metadata": {},
   "outputs": [],
   "source": [
    "path_dicts_to_export = dict()"
   ]
  },
  {
   "cell_type": "markdown",
   "metadata": {},
   "source": [
    "# Initialize path dicts"
   ]
  },
  {
   "cell_type": "markdown",
   "metadata": {},
   "source": [
    "## Dataverse"
   ]
  },
  {
   "cell_type": "code",
   "execution_count": null,
   "metadata": {},
   "outputs": [],
   "source": [
    "dataset_metadata_attribute_paths = {\n",
    "    'deposit_date': '#metadata_dateOfDeposit > td',\n",
    "    'num_downloads': '#metrics-body > div',\n",
    "    'language': '#metadata_language > td',\n",
    "    'topic_class_value': '#metadata_topicClassification > td',\n",
    "    'kind_of_data': '#metadata_kindOfData > td',\n",
    "    'date_of_collection': '#metadata_dateOfCollection > td',\n",
    "    'notes_text': '#metadata_notesText > td',\n",
    "    'contributor': '#metadata_contributor > td',\n",
    "    'grant_info': '#metadata_grantNumber > td',\n",
    "    'publication_citation': '#datasetCitationActionSummaryBlock > div:nth-child(1) > div > div > div.citation.margin-bottom > span',\n",
    "    'full_author_info': '#metadata_author > td',\n",
    "    'global_id': '#metadata_persistentId > td'\n",
    "}\n",
    "\n",
    "dataset_terms_attribute_paths = {\n",
    "    'terms_of_use': '#datasetForm\\:tabView\\:touFragment'\n",
    "}\n",
    "\n",
    "dataset_file_attribute_paths = {\n",
    "    'file_count': '#datasetForm\\:tabView\\:filesTable\\:filesHeaderCount > span',\n",
    "    'page_size_selection': 'select.ui-paginator-rpp-options',\n",
    "    'file_table': '#datasetForm\\:tabView\\:filesTable_data',\n",
    "    'file_metadata': 'td.col-file-metadata',\n",
    "    'page_increase': 'a.ui-paginator-next',\n",
    "    'file_name': 'div > a',\n",
    "    'date_published': 'div.dateCreatePublish-block',\n",
    "    'num_downloads': 'div.downloads-block',\n",
    "    'unf': 'div.unf-block'\n",
    "}\n",
    "\n",
    "file_metadata_attribute_paths = {\n",
    "    'deposit_date': '#fileDepositDateBlock > td',\n",
    "    'num_downloads': '#metrics-body > div',\n",
    "    'download_url': '#fileDownloadUrlBlock > td > code'\n",
    "}"
   ]
  },
  {
   "cell_type": "code",
   "execution_count": null,
   "metadata": {},
   "outputs": [],
   "source": [
    "dataverse_path_dicts = {\n",
    "    'dataset': {\n",
    "        'file_attribute_paths': dataset_file_attribute_paths,\n",
    "        'metadata_attribute_paths': dataset_metadata_attribute_paths,\n",
    "        'terms_attribute_paths': dataset_terms_attribute_paths\n",
    "    },\n",
    "    'file': {\n",
    "        'landing_attribute_paths': file_metadata_attribute_paths\n",
    "    }\n",
    "}"
   ]
  },
  {
   "cell_type": "code",
   "execution_count": null,
   "metadata": {},
   "outputs": [],
   "source": [
    "path_dicts_to_export['dataverse'] = dataverse_path_dicts"
   ]
  },
  {
   "cell_type": "markdown",
   "metadata": {},
   "source": [
    "## Dryad"
   ]
  },
  {
   "cell_type": "code",
   "execution_count": null,
   "metadata": {},
   "outputs": [],
   "source": [
    "dryad_path_dict = {\n",
    "    'numViews': '#show_metrics > div:nth-of-type(1) > div.o-metrics__number',\n",
    "    'numDownloads': '#show_metrics > div:nth-of-type(2) > div.o-metrics__number',\n",
    "    'numCitations': '#metrics_citation_count',\n",
    "    'title': '#display_resource > h1'\n",
    "}"
   ]
  },
  {
   "cell_type": "code",
   "execution_count": null,
   "metadata": {},
   "outputs": [],
   "source": [
    "path_dicts_to_export['dryad'] = dryad_path_dict"
   ]
  },
  {
   "cell_type": "markdown",
   "metadata": {},
   "source": [
    "## OpenML"
   ]
  },
  {
   "cell_type": "code",
   "execution_count": null,
   "metadata": {},
   "outputs": [],
   "source": [
    "openml_path_dict = {\n",
    "    'num_tasks': '#data_overview > h3:nth-of-type(3)',\n",
    "    'task': f'#data_overview > div:nth-of-type',\n",
    "    'downloads': '#downloadcount'\n",
    "}"
   ]
  },
  {
   "cell_type": "code",
   "execution_count": null,
   "metadata": {},
   "outputs": [],
   "source": [
    "path_dicts_to_export['openml'] = openml_path_dict"
   ]
  },
  {
   "cell_type": "markdown",
   "metadata": {},
   "source": [
    "## UCI"
   ]
  },
  {
   "cell_type": "code",
   "execution_count": null,
   "metadata": {},
   "outputs": [],
   "source": [
    "def _combine_paths(base_path, path_dict):\n",
    "    return {attr: f'{base_path} > {path}' for attr, path in path_dict.items()}"
   ]
  },
  {
   "cell_type": "code",
   "execution_count": null,
   "metadata": {},
   "outputs": [],
   "source": [
    "base_path = 'div:nth-child(2) > div > div.MuiGrid-root.MuiGrid-container.MuiGrid-align-items-xs-flex-start.MuiGrid-justify-xs-center'"
   ]
  },
  {
   "cell_type": "code",
   "execution_count": null,
   "metadata": {},
   "outputs": [],
   "source": [
    "structural_paths = {\n",
    "    'instance_path': 'div:nth-child(2) > div > div > div.jss11 > div > '\n",
    "                     'div.MuiTableContainer-root > table > tbody > tr > div > li > div > '\n",
    "                     'div.MuiGrid-root.MuiGrid-item.MuiGrid-grid-xs-12.MuiGrid-grid-md-11'\n",
    "                     ' > div > span > div > div.MuiGrid-root.MuiGrid-item.MuiGrid-grid-xs'\n",
    "                     '-8.MuiGrid-grid-sm-10 > p > a',\n",
    "    'wait_path': 'div:nth-child(2) > div > div.MuiGrid-root.MuiGrid-'\n",
    "                 'container.MuiGrid-align-items-xs-flex-start.MuiGrid-'\n",
    "                 'justify-xs-center > div.MuiGrid-root.MuiGrid-item.'\n",
    "                 'MuiGrid-grid-xs-12.MuiGrid-grid-md-9 > '\n",
    "                 'div:nth-child(4) > div.MuiCollapse-container.'\n",
    "                 'MuiCollapse-entered > div > div > div > div > table >'\n",
    "                 ' tbody > tr:nth-child(1) > td:nth-child(2) > p',\n",
    "    'tabular_wait_path': 'div:nth-child(2) > div > div.MuiGrid-root.MuiGrid-container.'\n",
    "                         'MuiGrid-align-items-xs-flex-start.MuiGrid-justify-xs-center > '\n",
    "                         'div.MuiGrid-root.MuiGrid-item.MuiGrid-grid-xs-12.MuiGrid-grid-md-9'\n",
    "                         ' > div:nth-child(5) > div.MuiCollapse-container.MuiCollapse-'\n",
    "                         'entered > div > div > div > div > table > tbody > tr:nth-child(1)'\n",
    "                         ' > td:nth-child(2) > p'\n",
    "}\n",
    "\n",
    "variable_attribute_paths = {\n",
    "    'creators': 'div.MuiGrid-root.MuiGrid-item.MuiGrid-grid-xs-12.MuiGrid-grid-md-9 '\n",
    "                '> div:nth-child(3) '\n",
    "                '> div.MuiCollapse-container.MuiCollapse-entered '\n",
    "                '> div '\n",
    "                '> div '\n",
    "                '> div '\n",
    "                '> div '\n",
    "                '> ul '\n",
    "                '> li '\n",
    "                '> div '\n",
    "                '> span '\n",
    "                '> h6',\n",
    "    'keywords': 'div.MuiGrid-root.MuiGrid-grid-xs-12.MuiGrid-grid-md-3 '\n",
    "                '> div:nth-child(1) '\n",
    "                '> div.MuiCardContent-root '\n",
    "                '> div '\n",
    "                '> span.MuiChip-label'\n",
    "}\n",
    "\n",
    "single_attribute_paths = {\n",
    "    'abstract': 'div.MuiGrid-root.MuiGrid-item.MuiGrid-grid-xs-12.MuiGrid-grid-md-9 '\n",
    "                '> div:nth-child(2) '\n",
    "                '> div.MuiCardContent-root.MuiGrid-root.MuiGrid-container.MuiGrid-justify-xs-space-between '\n",
    "                '> div.MuiGrid-root.MuiGrid-container.MuiGrid-direction-xs-column '\n",
    "                '> div '\n",
    "                '> p',\n",
    "    'associated_tasks': 'div.MuiGrid-root.MuiGrid-item.MuiGrid-grid-xs-12.MuiGrid-grid-md-9 '\n",
    "                '> div:nth-child(2) '\n",
    "                '> div.MuiCardContent-root.MuiGrid-root.MuiGrid-container.MuiGrid-justify-xs-space-between '\n",
    "                '> div.MuiGrid-root.MuiGrid-container.MuiGrid-spacing-xs-3 '\n",
    "                '> div:nth-child(4) '\n",
    "                '> p',\n",
    "    'dataset': 'div.MuiGrid-root.MuiGrid-item.MuiGrid-grid-xs-12.MuiGrid-grid-md-9 '\n",
    "                '> div.MuiPaper-root.MuiCard-root.jss16.MuiPaper-elevation3.MuiPaper-rounded '\n",
    "                '> div.MuiCardHeader-root '\n",
    "                '> div.MuiCardHeader-content '\n",
    "                '> h5',\n",
    "    'dataset_characteristics': 'div.MuiGrid-root.MuiGrid-item.MuiGrid-grid-xs-12.MuiGrid-grid-md-9 '\n",
    "                '> div:nth-child(2) '\n",
    "                '> div.MuiCardContent-root.MuiGrid-root.MuiGrid-container.MuiGrid-justify-xs-space-between '\n",
    "                '> div.MuiGrid-root.MuiGrid-container.MuiGrid-spacing-xs-3 '\n",
    "                '> div:nth-child(2) '\n",
    "                '> p',\n",
    "    'doi': 'div.MuiGrid-root.MuiGrid-item.MuiGrid-grid-xs-12.MuiGrid-grid-md-9 '\n",
    "                '> div:nth-child(2) '\n",
    "                '> div.MuiCardContent-root.MuiGrid-root.MuiGrid-container.MuiGrid-justify-xs-space-between '\n",
    "                '> div.MuiGrid-root.MuiGrid-container.MuiGrid-spacing-xs-3 '\n",
    "                '> div:nth-child(5) '\n",
    "                '> p',\n",
    "    'donation_date': 'div.MuiGrid-root.MuiGrid-item.MuiGrid-grid-xs-12.MuiGrid-grid-md-9 '\n",
    "                '> div.MuiPaper-root.MuiCard-root.jss16.MuiPaper-elevation3.MuiPaper-rounded '\n",
    "                '> div.MuiCardHeader-root '\n",
    "                '> div.MuiCardHeader-content '\n",
    "                '> span '\n",
    "                '> p',\n",
    "    \n",
    "    'license': 'div.MuiGrid-root.MuiGrid-grid-xs-12.MuiGrid-grid-md-3 '\n",
    "                '> div:nth-child(2) '\n",
    "                '> div.MuiCardContent-root '\n",
    "                '> p:nth-child(1) '\n",
    "                '> a.MuiTypography-root.MuiLink-root.MuiLink-underlineHover.MuiTypography-colorInherit',\n",
    "    'num_citations': 'div.MuiGrid-root.MuiGrid-item.MuiGrid-grid-xs-12.MuiGrid-grid-md-9 '\n",
    "                '> div.MuiPaper-root.MuiCard-root.jss16.MuiPaper-elevation3.MuiPaper-rounded '\n",
    "                '> div.MuiCardContent-root.MuiGrid-root.MuiGrid-container.MuiGrid-align-items-xs-center.MuiGrid-justify-xs-space-between '\n",
    "                '> div:nth-child(1) '\n",
    "                '> div:nth-child(2) '\n",
    "                '> p',\n",
    "    'num_instances': 'div.MuiGrid-root.MuiGrid-item.MuiGrid-grid-xs-12.MuiGrid-grid-md-9 '\n",
    "                '> div:nth-child(2) '\n",
    "                '> div.MuiCardContent-root.MuiGrid-root.MuiGrid-container.MuiGrid-justify-xs-space-between '\n",
    "                '> div.MuiGrid-root.MuiGrid-container.MuiGrid-spacing-xs-3 '\n",
    "                '> div:nth-child(6) '\n",
    "                '> p',\n",
    "    'num_views':'div.MuiGrid-root.MuiGrid-item.MuiGrid-grid-xs-12.MuiGrid-grid-md-9 '\n",
    "                '> div.MuiPaper-root.MuiCard-root.jss16.MuiPaper-elevation3.MuiPaper-rounded '\n",
    "                '> div.MuiCardContent-root.MuiGrid-root.MuiGrid-container.MuiGrid-align-items-xs-center.MuiGrid-justify-xs-space-between '\n",
    "                '> div:nth-child(1) '\n",
    "                '> div:nth-child(1) '\n",
    "                '> p',\n",
    "    'subject_area': 'div.MuiGrid-root.MuiGrid-item.MuiGrid-grid-xs-12.MuiGrid-grid-md-9 '\n",
    "                '> div:nth-child(2) '\n",
    "                '> div.MuiCardContent-root.MuiGrid-root.MuiGrid-container.MuiGrid-justify-xs-space-between '\n",
    "                '> div.MuiGrid-root.MuiGrid-container.MuiGrid-spacing-xs-3 '\n",
    "                '> div:nth-child(3) '\n",
    "                '> p'\n",
    "}\n",
    "\n",
    "single_attribute_paths = _combine_paths(base_path, single_attribute_paths)\n",
    "variable_attribute_paths = _combine_paths(base_path, variable_attribute_paths)"
   ]
  },
  {
   "cell_type": "code",
   "execution_count": null,
   "metadata": {},
   "outputs": [],
   "source": [
    "tabular_base_path = 'div:nth-child(2) > div > div.MuiGrid-root.MuiGrid-container.MuiGrid-align-items-xs-flex-start.MuiGrid-justify-xs-center > div.MuiGrid-root.MuiGrid-item.MuiGrid-grid-xs-12.MuiGrid-grid-md-9 > div:nth-child(5) > div.MuiCollapse-container.MuiCollapse-entered > div > div > div > div > table > tbody'\n",
    "descriptive_question_base_path = 'div:nth-child(2) > div > div.MuiGrid-root.MuiGrid-container.MuiGrid-align-items-xs-flex-start.MuiGrid-justify-xs-center > div.MuiGrid-root.MuiGrid-item.MuiGrid-grid-xs-12.MuiGrid-grid-md-9 > div:nth-child(4) > div.MuiCollapse-container.MuiCollapse-entered > div > div > div > div > table > tbody'\n",
    "tabular_attribute_paths = {\n",
    "    'missing_values': 'tr:nth-child(1) '\n",
    "                '> td:nth-child(2) '\n",
    "                '> p',\n",
    "    'missing_value_placeholder': 'tr:nth-child(2) '\n",
    "                '> td:nth-child(2) '\n",
    "                '> p',\n",
    "    'num_attributes': 'tr:nth-child(3) '\n",
    "                '> td:nth-child(2) '\n",
    "                '> p'\n",
    "}\n",
    "\n",
    "descriptive_question_attribute_paths = {\n",
    "    'creation_purpose': 'tr:nth-child(1) '\n",
    "                '> td:nth-child(2) '\n",
    "                '> p',\n",
    "    'funders': 'tr:nth-child(2) '\n",
    "                '> td:nth-child(2) '\n",
    "                '> p',\n",
    "    'instances_represent': 'tr:nth-child(3) '\n",
    "                '> td:nth-child(2) '\n",
    "                '> p',\n",
    "    'recommended_data_split': 'tr:nth-child(4) '\n",
    "                '> td:nth-child(2) '\n",
    "                '> p',\n",
    "    'sensitive_data': 'tr:nth-child(5) '\n",
    "                '> td:nth-child(2) '\n",
    "                '> p',\n",
    "    'preprocessing_done': 'tr:nth-child(6) '\n",
    "                '> td:nth-child(2) '\n",
    "                '> p',\n",
    "    'previous_tasks': 'tr:nth-child(7) '\n",
    "                '> td:nth-child(2) '\n",
    "                '> p',\n",
    "    'additional_info': 'tr:nth-child(8) '\n",
    "                '> td:nth-child(2) '\n",
    "                '> p',\n",
    "    'citation_requests/acknowledgements': 'tr:nth-child(9) '\n",
    "                '> td:nth-child(2) '\n",
    "                '> p'\n",
    "}\n",
    "\n",
    "tabular_attribute_paths = _combine_paths(tabular_base_path, tabular_attribute_paths)\n",
    "descriptive_question_attribute_paths = _combine_paths(descriptive_question_base_path, descriptive_question_attribute_paths)"
   ]
  },
  {
   "cell_type": "code",
   "execution_count": null,
   "metadata": {},
   "outputs": [],
   "source": [
    "single_attribute_paths = {**single_attribute_paths, **descriptive_question_attribute_paths}"
   ]
  },
  {
   "cell_type": "code",
   "execution_count": null,
   "metadata": {},
   "outputs": [],
   "source": [
    "uci_path_dict = {\n",
    "    'structural_paths': structural_paths,\n",
    "    'single_attribute_paths': single_attribute_paths,\n",
    "    'variable_attribute_paths': variable_attribute_paths\n",
    "}"
   ]
  },
  {
   "cell_type": "code",
   "execution_count": null,
   "metadata": {},
   "outputs": [],
   "source": [
    "path_dicts_to_export['uci'] = uci_path_dict"
   ]
  },
  {
   "cell_type": "markdown",
   "metadata": {},
   "source": [
    "# Export path dicts"
   ]
  },
  {
   "cell_type": "code",
   "execution_count": null,
   "metadata": {},
   "outputs": [],
   "source": [
    "for repo_name, path_dict in path_dicts_to_export.items():\n",
    "    with open(f'../paths/{repo_name}_paths.json', 'w') as f:\n",
    "        json.dump(path_dict, f)"
   ]
  }
 ],
 "metadata": {
  "kernelspec": {
   "display_name": "Python 3",
   "language": "python",
   "name": "python3"
  },
  "language_info": {
   "codemirror_mode": {
    "name": "ipython",
    "version": 3
   },
   "file_extension": ".py",
   "mimetype": "text/x-python",
   "name": "python",
   "nbconvert_exporter": "python",
   "pygments_lexer": "ipython3",
   "version": "3.8.8"
  }
 },
 "nbformat": 4,
 "nbformat_minor": 4
}
