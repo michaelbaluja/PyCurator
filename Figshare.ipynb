{
 "cells": [
  {
   "cell_type": "markdown",
   "metadata": {},
   "source": [
    "# Figshare API"
   ]
  },
  {
   "cell_type": "code",
   "execution_count": null,
   "metadata": {},
   "outputs": [],
   "source": [
    "#import libraries\n",
    "import requests as rq\n",
    "import pandas as pd\n",
    "from pprint import pprint as pp\n",
    "import pickle"
   ]
  },
  {
   "cell_type": "markdown",
   "metadata": {},
   "source": [
    "API access tokens have been stored in credentials.pkl file"
   ]
  },
  {
   "cell_type": "code",
   "execution_count": null,
   "metadata": {},
   "outputs": [],
   "source": [
    "#import API access token\n",
    "#at the moment, only have a single token in this credentials.pkl, which isn't the long term plan - need to change this\n",
    "FIGSHARE_TOKEN = pickle.load(open('credentials.pkl', 'rb'))"
   ]
  },
  {
   "cell_type": "code",
   "execution_count": null,
   "metadata": {},
   "outputs": [],
   "source": [
    "#Search seems to be all by type (articles, collections, etc.)\n",
    "#All are public\n",
    "#Plan is to search (1) articles, (2) collections, (3) projects, (4) data\n",
    "#Article search may be minimally useful, but if have linked DOIs in object, could be linked data\n",
    "\n",
    "#Can set up to cycle through which search (articles, collections, data) and by page"
   ]
  },
  {
   "cell_type": "markdown",
   "metadata": {},
   "source": [
    "Note: code as written (7/1) does NOT handle pagination yet - only goes through the workflow for first page"
   ]
  },
  {
   "cell_type": "markdown",
   "metadata": {},
   "source": [
    "Overall workflow: use main search to get IDs of matching objects, then use IDs to get full object details & associated files"
   ]
  },
  {
   "cell_type": "markdown",
   "metadata": {},
   "source": [
    "## Specify search parameters"
   ]
  },
  {
   "cell_type": "code",
   "execution_count": null,
   "metadata": {},
   "outputs": [],
   "source": [
    "#FIGSHARE_TOKEN imported from credentials.pkl\n",
    "HEADERS = {'Authorization': 'token '+ FIGSHARE_TOKEN}\n",
    "\n",
    "#Specify search terms\n",
    "SEARCH = 'machine learning'\n",
    "\n",
    "#Specify page to return with search (results are paginated)\n",
    "PAGE = 1\n",
    "\n",
    "#Specify number of results included on a page (default is 10, max is 1000)\n",
    "PAGE_SIZE = 1000\n",
    "\n",
    "#Having variable definition outside PARAMS so can put into loop later\n",
    "\n",
    "#Specify page and page size parameters\n",
    "#Other search options are available, including limit and offset, but at the moment page/page size seem most useful\n",
    "    #if set both page/page size and limit/offset, get:\n",
    "    #{'message': 'Pagination options can be set either via page/page_size or limit/offset params','code': 'ConflictingPaginationOptions'}\n",
    "    \n",
    "    #'limit': 1000, #Number of results included on a page. Used for pagination with query (optional) - not sure how differs from page_size\n",
    "    #'offset': 1 #, #Where to start the listing(the offset of the first result). Used for pagination with limit (optional)\n",
    "#We don't need to specify other search parameters like institution, group, modified since, etc.\n",
    "\n",
    "#Specify which search (collections, articles, projects, data)\n",
    "ARTICLE_URL = 'https://api.figshare.com/v2/articles'\n",
    "COLLECTIONS_URL = \"https://api.figshare.com/v2/collections/search\"\n",
    "PROJECTS_URL = \"https://api.figshare.com/v2/projects/search\"\n",
    "#DATA_URL = ???\n",
    "\n",
    "#Full search parameters\n",
    "PARAMS = {\n",
    "    'search_for': SEARCH, #search term\n",
    "    'page': PAGE, \n",
    "    'page_size': PAGE_SIZE,  \n",
    "    }"
   ]
  },
  {
   "cell_type": "markdown",
   "metadata": {},
   "source": [
    "## Example: search public articles"
   ]
  },
  {
   "cell_type": "code",
   "execution_count": null,
   "metadata": {},
   "outputs": [],
   "source": [
    "## Run search for public articles\n",
    "response = rq.get(ARTICLE_URL, params=PARAMS, headers=HEADERS)"
   ]
  },
  {
   "cell_type": "code",
   "execution_count": null,
   "metadata": {},
   "outputs": [],
   "source": [
    "## Put output into json format\n",
    "output = response.json()"
   ]
  },
  {
   "cell_type": "code",
   "execution_count": null,
   "metadata": {},
   "outputs": [],
   "source": [
    "## See what output looks like\n",
    "output"
   ]
  },
  {
   "cell_type": "code",
   "execution_count": null,
   "metadata": {},
   "outputs": [],
   "source": [
    "#Convert output to pd dataframe and see table format\n",
    "df = pd.DataFrame(output)\n",
    "\n",
    "df"
   ]
  },
  {
   "cell_type": "code",
   "execution_count": null,
   "metadata": {},
   "outputs": [],
   "source": [
    "## Alternative approach - normalize output\n",
    "## Same output as pd dataframe - thinking stick with pd for ease of data wrangling downstream\n",
    "#df2 = pd.json_normalize(output)\n",
    "#df2"
   ]
  },
  {
   "cell_type": "code",
   "execution_count": null,
   "metadata": {},
   "outputs": [],
   "source": [
    "## Extract IDs\n",
    "article_ids = list(df.id)"
   ]
  },
  {
   "cell_type": "code",
   "execution_count": null,
   "metadata": {},
   "outputs": [],
   "source": [
    "article_ids"
   ]
  },
  {
   "cell_type": "code",
   "execution_count": null,
   "metadata": {},
   "outputs": [],
   "source": [
    "## List files associated with public articles (by ID)\n",
    "\n",
    "#URL syntax is: https://api.figshare.com/v2/articles/{article_id}/files\n",
    "\n",
    "#approach: loop through all IDs, collapse output to table, iterate and append next table"
   ]
  },
  {
   "cell_type": "code",
   "execution_count": null,
   "metadata": {},
   "outputs": [],
   "source": [
    "## View article details\n",
    "\n",
    "#URL syntax is: https://api.figshare.com/v2/articles/{article_id}"
   ]
  }
 ],
 "metadata": {
  "kernelspec": {
   "display_name": "Python 3 (ipykernel)",
   "language": "python",
   "name": "python3"
  },
  "language_info": {
   "codemirror_mode": {
    "name": "ipython",
    "version": 3
   },
   "file_extension": ".py",
   "mimetype": "text/x-python",
   "name": "python",
   "nbconvert_exporter": "python",
   "pygments_lexer": "ipython3",
   "version": "3.9.6"
  }
 },
 "nbformat": 4,
 "nbformat_minor": 2
}
