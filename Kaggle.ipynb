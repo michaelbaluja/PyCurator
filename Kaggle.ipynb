{
 "cells": [
  {
   "cell_type": "code",
   "execution_count": null,
   "metadata": {},
   "outputs": [],
   "source": [
    "#unlike other API notebooks, no need to import a .py file with API token info\n",
    "#for kaggle, lives locally in ~/.kaggle/kaggle.json file"
   ]
  },
  {
   "cell_type": "markdown",
   "metadata": {},
   "source": [
    "To use the Kaggle API, sign up for a Kaggle account at https://www.kaggle.com. Then go to the 'Account' tab of your user profile (https://www.kaggle.com/<username>/account) and select 'Create API Token'. This will trigger the download of kaggle.json, a file containing your API credentials. Place this file in the location ~/.kaggle/kaggle.json (on Windows in the location C:\\Users\\<Windows-username>\\.kaggle\\kaggle.json - you can check the exact location, sans drive, with echo %HOMEPATH%). You can define a shell environment variable KAGGLE_CONFIG_DIR to change this location to $KAGGLE_CONFIG_DIR/kaggle.json (on Windows it will be %KAGGLE_CONFIG_DIR%\\kaggle.json)."
   ]
  },
  {
   "cell_type": "code",
   "execution_count": 1,
   "metadata": {},
   "outputs": [],
   "source": [
    "import kaggle"
   ]
  },
  {
   "cell_type": "code",
   "execution_count": 8,
   "metadata": {},
   "outputs": [
    {
     "name": "stdout",
     "output_type": "stream",
     "text": [
      "ref                                            deadline             category       reward  teamCount  userHasEntered  \n",
      "---------------------------------------------  -------------------  ----------  ---------  ---------  --------------  \n",
      "hhp                                            2013-04-04 07:00:00  Featured     $500,000       1350           False  \n",
      "datasciencebowl                                2015-03-16 23:59:00  Featured     $175,000       1049           False  \n",
      "stanford-covid-vaccine                         2020-10-06 23:59:00  Research      $25,000       1636           False  \n",
      "hubmap-kidney-segmentation                     2021-05-10 23:59:00  Research      $60,000       1200           False  \n",
      "osic-pulmonary-fibrosis-progression            2020-10-06 23:59:00  Featured      $55,000       2097           False  \n",
      "histopathologic-cancer-detection               2019-03-30 23:59:00  Playground  Knowledge       1149           False  \n",
      "rsna-str-pulmonary-embolism-detection          2020-10-26 23:59:00  Featured      $30,000        784           False  \n",
      "melbourne-university-seizure-prediction        2016-12-01 23:59:00  Research      $20,000        477           False  \n",
      "covid19-global-forecasting-week-1              2020-03-25 23:59:00  Research    Knowledge        545           False  \n",
      "aptos2019-blindness-detection                  2019-09-07 23:59:00  Featured      $50,000       2928           False  \n",
      "lish-moa                                       2020-11-30 23:59:00  Research      $30,000       4373           False  \n",
      "ultrasound-nerve-segmentation                  2016-08-18 23:59:00  Featured     $100,000        922           False  \n",
      "vinbigdata-chest-xray-abnormalities-detection  2021-03-30 23:59:00  Featured      $50,000       1275           False  \n",
      "prostate-cancer-grade-assessment               2020-07-22 23:59:00  Featured      $25,000       1010           False  \n",
      "trends-assessment-prediction                   2020-06-29 23:59:00  Research      $25,000       1047           False  \n",
      "covid19-global-forecasting-week-4              2020-04-15 23:59:00  Research    Knowledge        472           False  \n",
      "covid19-global-forecasting-week-3              2020-04-08 23:59:00  Research    Knowledge        452           False  \n",
      "covid19-global-forecasting-week-2              2020-04-06 03:56:00  Research    Knowledge        215           False  \n",
      "instacart-market-basket-analysis               2017-08-14 23:59:00  Featured      $25,000       2621           False  \n",
      "covid19-local-us-ca-forecasting-week-1         2020-03-25 23:59:00  Research    Knowledge        190           False  \n"
     ]
    }
   ],
   "source": [
    "#there are Pythonic options, but seems easiest to just run terminal commands from within notebook\n",
    "\n",
    "#example:\n",
    "! kaggle competitions list -s health"
   ]
  },
  {
   "cell_type": "code",
   "execution_count": 10,
   "metadata": {},
   "outputs": [
    {
     "name": "stdout",
     "output_type": "stream",
     "text": [
      "ref                                                   title                                                size  lastUpdated          downloadCount  voteCount  usabilityRating  \n",
      "----------------------------------------------------  --------------------------------------------------  -----  -------------------  -------------  ---------  ---------------  \n",
      "kaggle/kaggle-survey-2018                             2018 Kaggle Machine Learning & Data Science Survey    4MB  2018-11-03 22:35:07          15135        972  0.85294116       \n",
      "kaggle/kaggle-survey-2017                             2017 Kaggle Machine Learning & Data Science Survey    4MB  2017-10-27 22:03:03          22642        825  0.8235294        \n",
      "alopez247/pokemon                                     Pokémon for Data Mining and Machine Learning        715KB  2017-03-05 15:01:26          10332        237  0.85294116       \n",
      "kashnitsky/mlcourse                                   mlcourse.ai                                          51MB  2018-12-09 16:45:09          24515       1354  0.88235295       \n",
      "kaushil268/disease-prediction-using-machine-learning  Disease Prediction Using Machine Learning            30KB  2020-05-15 03:58:44           2034         36  0.8235294        \n",
      "henrysue/online-shoppers-intention                    Online Shoppers Intention UCI Machine Learning      252KB  2020-01-15 20:19:02           1089         29  1.0              \n",
      "rikdifos/credit-card-approval-prediction              Credit Card Approval Prediction                       5MB  2020-03-24 10:04:48          13863        294  1.0              \n",
      "cristeaioan/ffml-dataset                              Food For Machine Learning                            64MB  2020-04-24 09:10:45            685         18  0.8125           \n",
      "saxenapriyansh/coursera-machine-learning-andrew-ng    Coursera - Machine Learning - Andrew_Ng               4KB  2018-12-25 12:27:33            404         19  0.875            \n",
      "vikrishnan/boston-house-prices                        Boston House Prices                                  13KB  2017-08-03 17:06:12          37225        308  0.8235294        \n",
      "shuofxz/titanic-machine-learning-from-disaster        Titanic: Machine Learning from Disaster              33KB  2017-10-15 10:05:34           2542         41  0.29411766       \n",
      "uciml/zoo-animal-classification                       Zoo Animal Classification                             2KB  2016-12-24 18:05:10          22612        298  0.8235294        \n",
      "rahulsah06/machine-learning-for-diabetes-with-python  Machine Learning for Diabetes with Python             9KB  2019-09-20 08:04:12            811         20  0.5882353        \n",
      "mlg-ulb/creditcardfraud                               Credit Card Fraud Detection                          66MB  2018-03-23 01:17:27         326765       7994  0.85294116       \n",
      "gauravsahani/andrewng-machine-learning-tweets         AndrewNg Machine Learning Tweets                    124KB  2020-06-06 13:00:45             46         13  0.7058824        \n",
      "oossiiris/hackerearth-machine-learning-exhibit-art    HackerEarth Machine Learning  : Exhibit A(rt)       512KB  2021-02-06 07:36:56             59         10  0.7058824        \n",
      "sarahvch/breast-cancer-wisconsin-prognostic-data-set  Breast Cancer Wisconsin (Prognostic) Data Set        49KB  2017-03-31 22:47:50           2436         42  0.8235294        \n",
      "mirichoi0218/insurance                                 Medical Cost Personal Datasets                      16KB  2018-02-21 00:15:14          76100       1329  0.88235295       \n",
      "uciml/mushroom-classification                         Mushroom Classification                              34KB  2016-12-01 23:08:00          68983       1655  0.85294116       \n",
      "tentotheminus9/seti-data                              SETI Data                                             5GB  2018-09-28 10:18:06            659         84  0.625            \n"
     ]
    }
   ],
   "source": [
    "#search datasets for term\n",
    "! kaggle datasets list -s \"machine learning\"\n",
    "\n",
    "#this returns by default one page of results at a time (matches manual search of datasets page 1)\n",
    "#need to extract \"ref\" variable, which is <owner>/<dataset-name>"
   ]
  },
  {
   "cell_type": "code",
   "execution_count": null,
   "metadata": {},
   "outputs": [],
   "source": [
    "#searching datasets is a start, but we'll also want to search notebooks, competitions, etc\n",
    "#looks like can search datasets and kernels\n",
    "#and get related files for each"
   ]
  },
  {
   "cell_type": "code",
   "execution_count": 11,
   "metadata": {},
   "outputs": [
    {
     "name": "stdout",
     "output_type": "stream",
     "text": [
      "name                         size  creationDate         \n",
      "---------------------------  ----  -------------------  \n",
      "SurveySchema.csv              8KB  2018-11-03 22:35:07  \n",
      "multipleChoiceResponses.csv  39MB  2018-11-03 22:35:07  \n",
      "freeFormResponses.csv         1MB  2018-11-03 22:35:07  \n"
     ]
    }
   ],
   "source": [
    "#once get list of files in format <owner>/<dataset-name>, can get list of files\n",
    "#example:\n",
    "! kaggle datasets files kaggle/kaggle-survey-2018 "
   ]
  },
  {
   "cell_type": "code",
   "execution_count": 27,
   "metadata": {
    "scrolled": true
   },
   "outputs": [
    {
     "name": "stderr",
     "output_type": "stream",
     "text": [
      "Traceback (most recent call last):\n",
      "  File \"c:\\users\\slabou\\appdata\\local\\continuum\\anaconda3\\lib\\runpy.py\", line 193, in _run_module_as_main\n",
      "    \"__main__\", mod_spec)\n",
      "  File \"c:\\users\\slabou\\appdata\\local\\continuum\\anaconda3\\lib\\runpy.py\", line 85, in _run_code\n",
      "    exec(code, run_globals)\n",
      "  File \"C:\\Users\\slabou\\AppData\\Local\\Continuum\\anaconda3\\Scripts\\kaggle.exe\\__main__.py\", line 7, in <module>\n",
      "  File \"c:\\users\\slabou\\appdata\\local\\continuum\\anaconda3\\lib\\site-packages\\kaggle\\cli.py\", line 67, in main\n",
      "    out = args.func(**command_args)\n",
      "  File \"c:\\users\\slabou\\appdata\\local\\continuum\\anaconda3\\lib\\site-packages\\kaggle\\api\\kaggle_api_extended.py\", line 1065, in dataset_metadata_cli\n",
      "    meta_file = self.dataset_metadata(dataset, path)\n",
      "  File \"c:\\users\\slabou\\appdata\\local\\continuum\\anaconda3\\lib\\site-packages\\kaggle\\api\\kaggle_api_extended.py\", line 1050, in dataset_metadata\n",
      "    metadata = Metadata(result['info'])\n",
      "  File \"c:\\users\\slabou\\appdata\\local\\continuum\\anaconda3\\lib\\site-packages\\kaggle\\models\\kaggle_models_extended.py\", line 96, in __init__\n",
      "    self.id = parsed_info[\"ownerUser\"] + \"/\" + parsed_info['datasetSlug']\n",
      "TypeError: unsupported operand type(s) for +: 'NoneType' and 'str'\n"
     ]
    }
   ],
   "source": [
    "#can get metadata for a dataset\n",
    "#default downloads into current working directory\n",
    "#need a way to store in memory and iterate for all files\n",
    "! kaggle datasets metadata -p /Kaggle_results/ kaggle/kaggle-survey-2018 \n",
    "\n",
    "#this currently barfs, not sure why - something with where putting output,b ut not sure why\n",
    "#TypeError: unsupported operand type(s) for +: 'NoneType' and 'str'"
   ]
  },
  {
   "cell_type": "code",
   "execution_count": null,
   "metadata": {},
   "outputs": [],
   "source": []
  }
 ],
 "metadata": {
  "kernelspec": {
   "display_name": "Python 3",
   "language": "python",
   "name": "python3"
  },
  "language_info": {
   "codemirror_mode": {
    "name": "ipython",
    "version": 3
   },
   "file_extension": ".py",
   "mimetype": "text/x-python",
   "name": "python",
   "nbconvert_exporter": "python",
   "pygments_lexer": "ipython3",
   "version": "3.7.0"
  }
 },
 "nbformat": 4,
 "nbformat_minor": 2
}
